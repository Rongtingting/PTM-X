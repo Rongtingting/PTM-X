{
 "cells": [
  {
   "cell_type": "markdown",
   "metadata": {},
   "source": [
    "# Analysis of disordered regions on PTM cross-talk\n",
    "\n",
    "## Load functions and data"
   ]
  },
  {
   "cell_type": "code",
   "execution_count": 1,
   "metadata": {},
   "outputs": [],
   "source": [
    "import sys\n",
    "sys.path.append('../')\n",
    "\n",
    "from scr import fetch_disorder, count_disorder, load_disorder_file"
   ]
  },
  {
   "cell_type": "code",
   "execution_count": 2,
   "metadata": {
    "collapsed": true
   },
   "outputs": [],
   "source": [
    "import numpy as np\n",
    "data_dir = \"/Users/huangh/research/PTM/PTM-X_V2.1/\"\n",
    "\n",
    "sample_file = data_dir + \"/interface/crosstalkSamples/positive_samples.txt\"\n",
    "samples_positive = np.loadtxt(sample_file, delimiter='\\t', skiprows=0, dtype=\"str\")\n",
    "\n",
    "sample_file = data_dir + \"/interface/crosstalkSamples/negative_samples.txt\"\n",
    "samples_negative = np.loadtxt(sample_file, delimiter='\\t', skiprows=0, dtype=\"str\")"
   ]
  },
  {
   "cell_type": "code",
   "execution_count": 3,
   "metadata": {},
   "outputs": [
    {
     "name": "stdout",
     "output_type": "stream",
     "text": [
      "[PTM-X] fetched disordered regions on 106 samples.\n",
      "[PTM-X] fetched disordered regions on 6308 samples.\n"
     ]
    }
   ],
   "source": [
    "dis_file = data_dir + \"/data/disorder/result.txt\"\n",
    "dis_count_positive = fetch_disorder(samples_positive, dis_file, residue_check=True, verbose=False)\n",
    "dis_count_negative = fetch_disorder(samples_negative, dis_file, residue_check=True, verbose=False)"
   ]
  },
  {
   "cell_type": "code",
   "execution_count": 4,
   "metadata": {},
   "outputs": [
    {
     "data": {
      "text/plain": [
       "array([[ 1.,  1.],\n",
       "       [ 1.,  1.],\n",
       "       [ 1.,  1.],\n",
       "       ..., \n",
       "       [ 0.,  1.],\n",
       "       [ 0.,  2.],\n",
       "       [ 0.,  2.]])"
      ]
     },
     "execution_count": 4,
     "metadata": {},
     "output_type": "execute_result"
    }
   ],
   "source": [
    "dis_count_negative"
   ]
  },
  {
   "cell_type": "markdown",
   "metadata": {},
   "source": [
    "## Preference on disordered regions"
   ]
  },
  {
   "cell_type": "code",
   "execution_count": 17,
   "metadata": {},
   "outputs": [
    {
     "name": "stdout",
     "output_type": "stream",
     "text": [
      "51.9% missing values in positive samples caused by wrong PTM annotation.\n",
      "3.4% missing values in negative samples caused by wrong PTM annotation.\n",
      "30 postive and 5876 negatvie PTM pairs have valid values.\n"
     ]
    }
   ],
   "source": [
    "idx1 = dis_count_positive == dis_count_positive\n",
    "print(\"%.1f%% missing values in positive samples caused by wrong PTM annotation.\" %(100-np.mean(idx1)*100))\n",
    "\n",
    "idx2 = dis_count_negative == dis_count_negative\n",
    "print(\"%.1f%% missing values in negative samples caused by wrong PTM annotation.\" %(100-np.mean(idx2)*100))\n",
    "\n",
    "idx_pair1 = idx1[:,0]*idx1[:,1]\n",
    "idx_pair2 = idx2[:,0]*idx2[:,1]\n",
    "print(\"%d postive and %d negatvie PTM pairs have valid values.\" %(sum(idx_pair1), sum(idx_pair2)))"
   ]
  },
  {
   "cell_type": "code",
   "execution_count": 32,
   "metadata": {},
   "outputs": [
    {
     "name": "stdout",
     "output_type": "stream",
     "text": [
      "threshold=1: 0.882 positve and 0.843 negative PTMs in disordered regions (p=0.338).\n",
      "threshold=2: 0.569 positve and 0.471 negative PTMs in disordered regions (p=0.058).\n",
      "threshold=3: 0.147 positve and 0.233 negative PTMs in disordered regions (p=0.045).\n",
      "\n",
      "threshold=1: 0.867 positve and 0.713 negative PTM pairs in disordered regions (p=0.069).\n",
      "threshold=2: 0.267 positve and 0.232 negative PTM pairs in disordered regions (p=0.666).\n",
      "threshold=3: 0.000 positve and 0.058 negative PTM pairs in disordered regions (p=0.416).\n"
     ]
    }
   ],
   "source": [
    "from scipy.stats import fisher_exact\n",
    "\n",
    "for threshold in [1,2,3]:\n",
    "    idx_dis_single1 = dis_count_positive[idx1] >= threshold\n",
    "    idx_dis_single2 = dis_count_negative[idx2] >= threshold\n",
    "    \n",
    "    table = [[sum(idx_dis_single1), len(idx_dis_single1)-sum(idx_dis_single1)],\n",
    "             [sum(idx_dis_single2), len(idx_dis_single2)-sum(idx_dis_single2)]]\n",
    "    p_val = fisher_exact(table)[1]    \n",
    "    print(\"threshold=%d: %.3f positve and %.3f negative PTMs in disordered regions (p=%.3f).\" \n",
    "          %(threshold, np.mean(idx_dis_single1), np.mean(idx_dis_single2), p_val))\n",
    "print(\"\")\n",
    "\n",
    "for threshold in [1,2,3]:  \n",
    "    idx_dis_both1 = np.sum(dis_count_positive[idx_pair1,:] >= threshold, axis=1) == 2\n",
    "    idx_dis_both2 = np.sum(dis_count_negative[idx_pair2,:] >= threshold, axis=1) == 2\n",
    "    \n",
    "    table = [[sum(idx_dis_both1), len(idx_dis_both1)-sum(idx_dis_both1)],\n",
    "             [sum(idx_dis_both2), len(idx_dis_both2)-sum(idx_dis_both2)]]\n",
    "    p_val = fisher_exact(table)[1]  \n",
    "    print(\"threshold=%d: %.3f positve and %.3f negative PTM pairs in disordered regions (p=%.3f).\" \n",
    "          %(threshold, np.mean(idx_dis_both1), np.mean(idx_dis_both2), p_val))"
   ]
  },
  {
   "cell_type": "code",
   "execution_count": null,
   "metadata": {
    "collapsed": true
   },
   "outputs": [],
   "source": []
  },
  {
   "cell_type": "markdown",
   "metadata": {},
   "source": [
    "### Check the output of  ``load_disorder_file``"
   ]
  },
  {
   "cell_type": "code",
   "execution_count": 45,
   "metadata": {},
   "outputs": [
    {
     "name": "stdout",
     "output_type": "stream",
     "text": [
      "(19836, 19836, 19836)\n",
      "['P31946', 'P62258', 'Q04917', 'P61981', 'P31947']\n",
      "[['105', '116'], ['133', '144'], ['159', '173']]\n",
      "['mtmdkselvqkaklaeqaeryddmaaamkavteqghelsneernllsvayknvvgarrsswrvissieqkternekkqqmgkeyrekieaelqdicndvlelldKYLIPNATQPESkvfylkmkgdyfrylsEVASGDNKQTTVsnsqqayqeafeisKKEMQPTHPIRLGLAlnfsvfyyeilnspekacslaktafdeaiaeldtlneesykdstlimqllrdnlTLWTSENQGDEGDAGEGEN', 'mddredlvyqaklaeqaerydemvesmkkvagmdveltveernllsvayknvigarraswriissieqKEENKGGEDklkmireyrqmvetelkliccdildvLDKHLIPAANTGESkvfyykmkgdyhrylaefATGNDRKEaaenslvaykaasDIAMTELPPTHPIRLGLalnfsvfyyeilnspdracrlakaafddaiaeldtlseesykdstlimqllrdnltLWTSDMQGDGEEqnkealqdvedenq', 'mgdreqllqrarlaeqaeryddmasamkavteLNEPLSNEDrnllsvayknvvgarrsswrvissieqktmadgnekklekvkayrekiekeletvcndvlslldkflikncndfqyeskvfylkmkgdyyrylaevasgekknsvveaseaaykeafeisKEQMQPTHPIRLGLAlnfsvfyyeiqnapeqacllakqafddaiaeldTLNEDSYKdstlimqllrdnlTLWTSDQQDEEAGEGN']\n"
     ]
    }
   ],
   "source": [
    "disorder_file = data_dir + \"/data/disorder/result.txt\"\n",
    "dis_prot_ID, dis_regions, dis_seq = load_disorder_file(disorder_file)\n",
    "\n",
    "print(len(dis_prot_ID), len(dis_regions), len(dis_seq))\n",
    "\n",
    "print(dis_prot_ID[:5])\n",
    "print(dis_regions[0][:3])\n",
    "print(disorder_seq[:3])"
   ]
  },
  {
   "cell_type": "code",
   "execution_count": null,
   "metadata": {
    "collapsed": true
   },
   "outputs": [],
   "source": []
  }
 ],
 "metadata": {
  "kernelspec": {
   "display_name": "Python 2",
   "language": "python",
   "name": "python2"
  },
  "language_info": {
   "codemirror_mode": {
    "name": "ipython",
    "version": 2
   },
   "file_extension": ".py",
   "mimetype": "text/x-python",
   "name": "python",
   "nbconvert_exporter": "python",
   "pygments_lexer": "ipython2",
   "version": "2.7.14"
  }
 },
 "nbformat": 4,
 "nbformat_minor": 2
}
