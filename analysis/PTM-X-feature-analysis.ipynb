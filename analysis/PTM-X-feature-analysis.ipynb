{
 "cells": [
  {
   "cell_type": "markdown",
   "metadata": {},
   "source": [
    "# Analysis of sequence co-evolution on PTM cross-talk"
   ]
  },
  {
   "cell_type": "markdown",
   "metadata": {},
   "source": [
    "## Load functions and data"
   ]
  },
  {
   "cell_type": "code",
   "execution_count": 28,
   "metadata": {
    "collapsed": false
   },
   "outputs": [],
   "source": [
    "import numpy as np\n",
    "from os.path import expanduser\n",
    "\n",
    "data_dir = expanduser(\"~\") + \"/research/PTM-X/\"\n",
    "\n",
    "positive_file = data_dir + \"/interface/positive_features_merge.txt\"\n",
    "feature_positive = np.loadtxt(positive_file, delimiter='\\t', skiprows=0, dtype=\"str\")\n",
    "\n",
    "negative_file = data_dir + \"/interface/negative_features_merge.txt\"\n",
    "feature_negative = np.loadtxt(negative_file, delimiter='\\t', skiprows=0, dtype=\"str\")"
   ]
  },
  {
   "cell_type": "code",
   "execution_count": 29,
   "metadata": {
    "collapsed": false
   },
   "outputs": [
    {
     "data": {
      "text/plain": [
       "array(['P12814', 'Y12', 'phosphorylation', 'Q05397', 'Y397',\n",
       "       'phosphorylation', '1.000', '0.010', '0.333', 'nan'], \n",
       "      dtype='|S19')"
      ]
     },
     "execution_count": 29,
     "metadata": {},
     "output_type": "execute_result"
    }
   ],
   "source": [
    "feature_positive[0,:]"
   ]
  },
  {
   "cell_type": "markdown",
   "metadata": {},
   "source": [
    "## Preference on disordered regions\n",
    "\n",
    "This feature is a binary value: 0 or 1, which means if both PTMs are located in disordered region. DisEMBL v1.5 is used to predict if a residue is located in disordered region. If at least two out of the three build-in predictors predict a residue is in the disordered region, we take the value 1, otherwise 0 for this feature."
   ]
  },
  {
   "cell_type": "code",
   "execution_count": 30,
   "metadata": {
    "collapsed": false,
    "scrolled": true
   },
   "outputs": [
    {
     "name": "stdout",
     "output_type": "stream",
     "text": [
      "154 positive samples: 0.240 samples have both PTMs in disordered region; missing: 0.0%.\n",
      "8433 negative samples: 0.203 samples have both PTMs in disordered region; missing: 0.0%.\n",
      "Fisher exact test p value: 0.267\n",
      "[[37.0, 117.0], [1713.0, 6720.0]]\n"
     ]
    }
   ],
   "source": [
    "from scipy.stats import fisher_exact\n",
    "\n",
    "disorder_positive = feature_positive[:,6].astype(float)\n",
    "disorder_negative = feature_negative[:,6].astype(float)\n",
    "\n",
    "idx1 = disorder_positive == disorder_positive\n",
    "print(\"%d positive samples: %.3f samples have both PTMs in disordered region; missing: %.1f%%.\" \n",
    "      %(len(idx1), np.mean(disorder_positive[idx1]), 100-np.mean(idx1)*100))\n",
    "\n",
    "idx2 = disorder_negative == disorder_negative\n",
    "print(\"%d negative samples: %.3f samples have both PTMs in disordered region; missing: %.1f%%.\" \n",
    "      %(len(idx2), np.mean(disorder_negative[idx2]), 100-np.mean(idx2)*100))\n",
    "    \n",
    "table = [[sum(disorder_positive[idx1]), sum(idx1)-sum(disorder_positive[idx1])],\n",
    "         [sum(disorder_negative[idx2]), sum(idx2)-sum(disorder_negative[idx2])]]\n",
    "p_val = fisher_exact(table)[1]    \n",
    "print(\"Fisher exact test p value: %.3f\" %(p_val))\n",
    "print(table)"
   ]
  },
  {
   "cell_type": "markdown",
   "metadata": {},
   "source": [
    "## Sequence co-evolution\n",
    "\n",
    "This feature is the normalized mutual information between two vector of residues for the according PTM pair. The residue vector is the evolutionary seuqences across multiple vertebrates. Note, the vector is encoded as 1 or 0 as conservation comparing to the residue in human."
   ]
  },
  {
   "cell_type": "code",
   "execution_count": 31,
   "metadata": {
    "collapsed": false
   },
   "outputs": [
    {
     "name": "stdout",
     "output_type": "stream",
     "text": [
      "154 positive samples: mean nMI: 0.080 (median: 0.019); missing: 36%.\n",
      "8433 negative samples: mean nMI: 0.059 (median: 0.028); missing: 28.5%.\n",
      "K-S test p value: 0.025\n",
      "Permutation test p value: 0.021\n"
     ]
    }
   ],
   "source": [
    "import sys\n",
    "sys.path.append('../scr')\n",
    "from scipy.stats import ks_2samp\n",
    "from utils.base import permutation_test\n",
    "\n",
    "seqCoEvol_positive = feature_positive[:,7].astype(float)\n",
    "seqCoEvol_negative = feature_negative[:,7].astype(float)\n",
    "\n",
    "idx1 = seqCoEvol_positive == seqCoEvol_positive\n",
    "print(\"%d positive samples: mean nMI: %.3f (median: %.3f); missing: %.f%%.\" \n",
    "      %(len(idx1), np.mean(seqCoEvol_positive[idx1]), np.median(seqCoEvol_positive[idx1]), 100-np.mean(idx1)*100))\n",
    "\n",
    "idx2 = seqCoEvol_negative == seqCoEvol_negative\n",
    "print(\"%d negative samples: mean nMI: %.3f (median: %.3f); missing: %.1f%%.\" \n",
    "      %(len(idx2), np.mean(seqCoEvol_negative[idx2]), np.median(seqCoEvol_negative[idx2]), 100-np.mean(idx2)*100))\n",
    "\n",
    "print(\"K-S test p value: %.3f\" \n",
    "      %(ks_2samp(seqCoEvol_positive[idx1], seqCoEvol_negative[idx2])[1]))\n",
    "print(\"Permutation test p value: %.3f\" \n",
    "      %(permutation_test(seqCoEvol_positive[idx1], seqCoEvol_negative[idx2], 10000)))"
   ]
  },
  {
   "cell_type": "code",
   "execution_count": 32,
   "metadata": {
    "collapsed": false
   },
   "outputs": [
    {
     "data": {
      "image/png": "[encoded data removed]",
      "text/plain": [
       "<matplotlib.figure.Figure at 0x111a18ed0>"
      ]
     },
     "metadata": {},
     "output_type": "display_data"
    }
   ],
   "source": [
    "import seaborn as sns\n",
    "import matplotlib\n",
    "import matplotlib.pyplot as plt\n",
    "%matplotlib inline\n",
    "\n",
    "def set_style(label_size=12):\n",
    "    import seaborn\n",
    "    import matplotlib\n",
    "    seaborn.set_style(\"white\")\n",
    "    seaborn.set_style(\"ticks\")\n",
    "\n",
    "    matplotlib.rcParams['grid.alpha'] = 0.4\n",
    "    matplotlib.rcParams['xtick.labelsize'] = label_size\n",
    "    matplotlib.rcParams['ytick.labelsize'] = label_size * 1.1\n",
    "    matplotlib.rcParams['legend.fontsize'] = label_size * 1.1\n",
    "    matplotlib.rcParams['axes.labelsize'] = label_size * 1.1\n",
    "    matplotlib.rcParams['axes.titlesize'] = label_size * 1.2\n",
    "    matplotlib.rcParams['axes.titleweight'] = 'bold'\n",
    "    \n",
    "set_style()\n",
    "\n",
    "p_val = ks_2samp(seqCoEvol_positive[idx1], seqCoEvol_negative[idx2])[1]\n",
    "\n",
    "fig = plt.figure(figsize=(5,3.5))\n",
    "pal = sns.set_palette(\"husl\", 2)\n",
    "\n",
    "ax = sns.violinplot(data=[seqCoEvol_positive[idx1], seqCoEvol_negative[idx2]], \n",
    "                    palette=pal, scale=\"width\", cut=0, orient=\"h\")\n",
    "# ax = plt.violinplot([seqCoEvol_positive[idx1], seqCoEvol_negative[idx2]])\n",
    "ax.text(0.95, 0.83, 'K-S test $p= %.e$' %p_val,\n",
    "        verticalalignment='bottom', horizontalalignment='right',\n",
    "        transform=ax.transAxes, color='black', fontsize=14)\n",
    "plt.xlim(-0.02, 0.42)\n",
    "plt.xlabel(\"nMI score\")\n",
    "plt.yticks([0,1], [\"positive\", \"negative\"], rotation='vertical')\n",
    "\n",
    "plt.title(\"sequence co-evolution\")\n",
    "plt.grid(alpha=0.4)\n",
    "sns.despine()\n",
    "plt.tight_layout()\n",
    "plt.savefig(data_dir + \"/figures/seq_CoEvol.pdf\")\n",
    "plt.show()"
   ]
  },
  {
   "cell_type": "markdown",
   "metadata": {},
   "source": [
    "## PTM co-conservation"
   ]
  },
  {
   "cell_type": "code",
   "execution_count": 33,
   "metadata": {
    "collapsed": false
   },
   "outputs": [
    {
     "name": "stdout",
     "output_type": "stream",
     "text": [
      "154 positive samples: mean co-convervation: 0.582; missing: 31%.\n",
      "8433 negative samples: mean co-convervation: 0.485; missing: 19.0%.\n",
      "K-S test p value: 0.004\n",
      "Permutation test p value: 0.000\n"
     ]
    }
   ],
   "source": [
    "import sys\n",
    "sys.path.append('../scr')\n",
    "from scipy.stats import ks_2samp\n",
    "from utils.base import permutation_test\n",
    "\n",
    "PTMcoEvol_positive = feature_positive[:,8].astype(float)\n",
    "PTMcoEvol_negative = feature_negative[:,8].astype(float)\n",
    "\n",
    "idx1 = PTMcoEvol_positive == PTMcoEvol_positive\n",
    "print(\"%d positive samples: mean co-convervation: %.3f; missing: %.f%%.\" \n",
    "      %(len(idx1), np.mean(PTMcoEvol_positive[idx1]), 100-np.mean(idx1)*100))\n",
    "\n",
    "idx2 = PTMcoEvol_negative == PTMcoEvol_negative\n",
    "print(\"%d negative samples: mean co-convervation: %.3f; missing: %.1f%%.\" \n",
    "      %(len(idx2), np.mean(PTMcoEvol_negative[idx2]), 100-np.mean(idx2)*100))\n",
    "\n",
    "print(\"K-S test p value: %.3f\" \n",
    "      %(ks_2samp(PTMcoEvol_positive[idx1], PTMcoEvol_negative[idx2])[1]))\n",
    "print(\"Permutation test p value: %.3f\" \n",
    "      %(permutation_test(PTMcoEvol_positive[idx1], PTMcoEvol_negative[idx2], 10000)))"
   ]
  },
  {
   "cell_type": "code",
   "execution_count": 34,
   "metadata": {
    "collapsed": false
   },
   "outputs": [
    {
     "name": "stdout",
     "output_type": "stream",
     "text": [
      "(1.0, 1.0)\n",
      "(0.76635514018691586, 0.88919789227166279)\n",
      "(0.48598130841121495, 0.65661592505854804)\n"
     ]
    },
    {
     "data": {
      "image/png": "[encoded data removed]",
      "text/plain": [
       "<matplotlib.figure.Figure at 0x1119f4290>"
      ]
     },
     "metadata": {},
     "output_type": "display_data"
    }
   ],
   "source": [
    "import seaborn as sns\n",
    "import matplotlib\n",
    "import matplotlib.pyplot as plt\n",
    "%matplotlib inline\n",
    "\n",
    "set_style()\n",
    "\n",
    "pal = sns.color_palette(\"hls\", 3)\n",
    "\n",
    "fig = plt.figure(figsize=(5,3.5))\n",
    "_frac1 = sum(PTMcoEvol_positive <= 1.0) / (sum(idx1) + 0.0)\n",
    "_frac2 = sum(PTMcoEvol_negative <= 1.0) / (sum(idx2) + 0.0)\n",
    "sns.barplot(data=[[_frac1], [_frac2]], label=\"3\", orient=\"h\", color=pal[0])\n",
    "print(_frac1, _frac2)\n",
    "\n",
    "_frac1 = sum(PTMcoEvol_positive <= 0.67) / (sum(idx1) + 0.0)\n",
    "_frac2 = sum(PTMcoEvol_negative <= 0.67) / (sum(idx2) + 0.0)\n",
    "sns.barplot(data=[[_frac1], [_frac2]], label=\"2\", orient=\"h\", color=pal[1])\n",
    "print(_frac1, _frac2)\n",
    "\n",
    "_frac1 = sum(PTMcoEvol_positive <= 0.34) / (sum(idx1) + 0.0)\n",
    "_frac2 = sum(PTMcoEvol_negative <= 0.34) / (sum(idx2) + 0.0)\n",
    "sns.barplot(data=[[_frac1], [_frac2]], label=\"1 species\", orient=\"h\", color=pal[2])\n",
    "print(_frac1, _frac2)\n",
    "\n",
    "plt.xlabel(\"fractions\")\n",
    "plt.yticks([0,1], [\"positive\", \"negative\"], rotation='vertical')\n",
    "plt.title(\"PTM co-conservation\")\n",
    "plt.grid(alpha=0.4)\n",
    "sns.despine()\n",
    "plt.tight_layout()\n",
    "plt.ylim(-0.5, 1.8)\n",
    "plt.legend(loc=1, ncol=3)\n",
    "\n",
    "plt.tight_layout()\n",
    "plt.savefig(data_dir + \"/figures/PTM_CoConsv.pdf\")\n",
    "plt.show()"
   ]
  },
  {
   "cell_type": "markdown",
   "metadata": {},
   "source": [
    "## PTM co-occurrence"
   ]
  },
  {
   "cell_type": "code",
   "execution_count": 8,
   "metadata": {
    "collapsed": false
   },
   "outputs": [
    {
     "name": "stdout",
     "output_type": "stream",
     "text": [
      "154 positive samples: mean co-occurrence (-log10 p): 3.265 (median: 1.900 ); missing: 77%.\n",
      "8433 negative samples: mean co-occurrence (-log10 p): 1.612 (median: 1.140); missing: 92.7%.\n",
      "K-S test p value: 0.008\n",
      "Permutation test p value: 0.000\n"
     ]
    }
   ],
   "source": [
    "import sys\n",
    "sys.path.append('../scr')\n",
    "from scipy.stats import ks_2samp\n",
    "from utils.base import permutation_test\n",
    "\n",
    "PTMcoOccur_positive = -np.log10(feature_positive[:,9].astype(float))\n",
    "PTMcoOccur_negative = -np.log10(feature_negative[:,9].astype(float))\n",
    "\n",
    "idx1 = PTMcoOccur_positive == PTMcoOccur_positive\n",
    "print(\"%d positive samples: mean co-occurrence (-log10 p): %.3f (median: %.3f ); missing: %.f%%.\" \n",
    "      %(len(idx1), np.mean(PTMcoOccur_positive[idx1]), np.median(PTMcoOccur_positive[idx1]), 100-np.mean(idx1)*100))\n",
    "\n",
    "idx2 = PTMcoOccur_negative == PTMcoOccur_negative\n",
    "print(\"%d negative samples: mean co-occurrence (-log10 p): %.3f (median: %.3f); missing: %.1f%%.\" \n",
    "      %(len(idx2), np.mean(PTMcoOccur_negative[idx2]), np.median(PTMcoOccur_negative[idx2]), 100-np.mean(idx2)*100))\n",
    "\n",
    "print(\"K-S test p value: %.3f\" \n",
    "      %(ks_2samp(PTMcoOccur_positive[idx1], PTMcoOccur_negative[idx2])[1]))\n",
    "print(\"Permutation test p value: %.3f\" \n",
    "      %(permutation_test(PTMcoOccur_positive[idx1], PTMcoOccur_negative[idx2], 10000)))"
   ]
  },
  {
   "cell_type": "code",
   "execution_count": 9,
   "metadata": {
    "collapsed": false
   },
   "outputs": [
    {
     "data": {
      "image/png": "[encoded data removed]",
      "text/plain": [
       "<matplotlib.figure.Figure at 0x10e6472d0>"
      ]
     },
     "metadata": {},
     "output_type": "display_data"
    }
   ],
   "source": [
    "import seaborn as sns\n",
    "import matplotlib\n",
    "import matplotlib.pyplot as plt\n",
    "%matplotlib inline\n",
    "\n",
    "set_style()\n",
    "\n",
    "p_val = ks_2samp(PTMcoOccur_positive[idx1], PTMcoOccur_negative[idx2])[1]\n",
    "\n",
    "fig = plt.figure(figsize=(5,3.5))\n",
    "pal = sns.set_palette(\"husl\", 2)\n",
    "ax = sns.violinplot(data=[PTMcoOccur_positive[idx1], PTMcoOccur_negative[idx2]], \n",
    "                    palette=pal, scale=\"width\", cut=0, orient=\"h\")\n",
    "ax.text(0.95, 0.83, 'K-S test $p= %.e$' %p_val,\n",
    "        verticalalignment='bottom', horizontalalignment='right',\n",
    "        transform=ax.transAxes, color='black', fontsize=14)\n",
    "\n",
    "plt.xlim(-0.5, 13.7)\n",
    "plt.xlabel(\"-log10(p-value)\")\n",
    "plt.yticks([0,1], [\"positive\", \"negative\"], rotation='vertical')\n",
    "plt.title(\"PTM co-occurrence\")\n",
    "plt.grid(alpha=0.4)\n",
    "sns.despine()\n",
    "plt.tight_layout()\n",
    "plt.savefig(data_dir + \"/figures/PTM_CoOccur.pdf\")\n",
    "plt.show()"
   ]
  },
  {
   "cell_type": "code",
   "execution_count": null,
   "metadata": {
    "collapsed": true
   },
   "outputs": [],
   "source": []
  },
  {
   "cell_type": "code",
   "execution_count": null,
   "metadata": {
    "collapsed": true
   },
   "outputs": [],
   "source": []
  }
 ],
 "metadata": {
  "kernelspec": {
   "display_name": "Python 2",
   "language": "python",
   "name": "python2"
  },
  "language_info": {
   "codemirror_mode": {
    "name": "ipython",
    "version": 2
   },
   "file_extension": ".py",
   "mimetype": "text/x-python",
   "name": "python",
   "nbconvert_exporter": "python",
   "pygments_lexer": "ipython2",
   "version": "2.7.12"
  }
 },
 "nbformat": 4,
 "nbformat_minor": 2
}
